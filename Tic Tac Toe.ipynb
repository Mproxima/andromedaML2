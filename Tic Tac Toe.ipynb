{
 "cells": [
  {
   "cell_type": "code",
   "execution_count": 1,
   "metadata": {},
   "outputs": [],
   "source": [
    "import os\n",
    "import random\n",
    "import re"
   ]
  },
  {
   "cell_type": "code",
   "execution_count": 2,
   "metadata": {},
   "outputs": [
    {
     "data": {
      "text/plain": [
       "1"
      ]
     },
     "execution_count": 2,
     "metadata": {},
     "output_type": "execute_result"
    }
   ],
   "source": [
    "won = \"Flase\"\n",
    "grid=[\"A1\",\"A2\",\"A3\",\"B1\",\"B2\",\"B3\",\"C1\",\"C2\",\"C3\"]\n",
    "tictactoe=[\"-\",\"-\",\"-\",\"-\",\"-\",\"-\",\"-\",\"-\",\"-\"]\n",
    "Player=\"X\"\n",
    "os.system('clear')"
   ]
  },
  {
   "cell_type": "code",
   "execution_count": null,
   "metadata": {},
   "outputs": [],
   "source": [
    "while won == \"Flase\":\n",
    "    os.system('clear')\n",
    "    print (\"   1   2   3 \")\n",
    "    print (\"A \",tictactoe[0],\"|\",tictactoe[1],\"|\",tictactoe[2])\n",
    "    print (\"   ----------\")\n",
    "    print (\"B \",tictactoe[3],\"|\",tictactoe[4],\"|\",tictactoe[5])\n",
    "    print (\"   ----------\")\n",
    "    print (\"C \",tictactoe[6],\"|\",tictactoe[7],\"|\",tictactoe[8])\n",
    "    print (\"\")\n",
    "    if Player == \"O\":\n",
    "        choice = random.choice(grid)\n",
    "    else:\n",
    "        row = input(\"Player \" + Player + \" chose row:\")\n",
    "        column= input(\"Player \" + Player + \" chose column:\")\n",
    "        row = row.capitalize()\n",
    "        choice = row + column\n",
    "    if not re.search('[ABC]+[123]', choice):\n",
    "        input(\"Invald Entry Try Again..\")\n",
    "        continue\n",
    "    else:\n",
    "        Gridlocation = grid.index(choice)\n",
    "        choicevaule = (tictactoe[Gridlocation])\n",
    "\n",
    "        if choicevaule == \"-\":\n",
    "                tictactoe[Gridlocation]=Player\n",
    "        else:\n",
    "                print (\"This Postion is already taken chose again\")\n",
    "                input(\"Press Enter to chose anoter Postion continue...\")\n",
    "                continue\n",
    "\n",
    "        if tictactoe[0] == Player and tictactoe[1] == Player and tictactoe[2] == Player:\n",
    "\n",
    "                won = \"Ture\"\n",
    "\n",
    "        if tictactoe[3] == Player and tictactoe[4] == Player and tictactoe[5] == Player:\n",
    "\n",
    "                won = \"Ture\"\n",
    "        if tictactoe[6] == Player and tictactoe[7] == Player and tictactoe[8] == Player:\n",
    "\n",
    "                won = \"Ture\"\n",
    "        if tictactoe[0] == Player and tictactoe[3] == Player and tictactoe[6] == Player:\n",
    "\n",
    "                won = \"Ture\"\n",
    "\n",
    "        if tictactoe[1] == Player and tictactoe[4] == Player and tictactoe[7] == Player:\n",
    "\n",
    "                won = \"Ture\"\n",
    "\n",
    "        if tictactoe[2] == Player and tictactoe[5] == Player and tictactoe[8] == Player:\n",
    "\n",
    "                won = \"Ture\"\n",
    "\n",
    "        if tictactoe[0] == Player and tictactoe[4] == Player and tictactoe[8] == Player:\n",
    "\n",
    "                won = \"Ture\"\n",
    "\n",
    "        if tictactoe[2] == Player and tictactoe[4] == Player and tictactoe[6] == Player:\n",
    "                won = \"Ture\"\n",
    "        if not \"-\" in tictactoe:\n",
    "                stale = \"yes\"\n",
    "                won = \"Ture\"\n",
    "        else:\n",
    "                stale = \"not\"\n",
    "                if Player == \"O\":\n",
    "                        Player=\"X\"\n",
    "                else:\n",
    "                        Player=\"O\"\n",
    "        os.system('clear')\n",
    "\n",
    "if Player == \"O\":\n",
    "        Player=\"X\"\n",
    "else:\n",
    "        Player=\"O\"\n",
    "\n",
    "print (\"   1   2   3 \")\n",
    "print (\"A \",tictactoe[0],\"|\",tictactoe[1],\"|\",tictactoe[2])\n",
    "print (\"   ----------\")\n",
    "print (\"B \",tictactoe[3],\"|\",tictactoe[4],\"|\",tictactoe[5])\n",
    "print (\"   ----------\")\n",
    "print (\"C \",tictactoe[6],\"|\",tictactoe[7],\"|\",tictactoe[8])\n",
    "print (\"\")\n",
    "if not stale == \"yes\":\n",
    "    print (\"Player\",Player,\"Has Won\")\n",
    "else:\n",
    "    print (\"No one won!\")"
   ]
  }
 ],
 "metadata": {
  "kernelspec": {
   "display_name": "Python 3",
   "language": "python",
   "name": "python3"
  },
  "language_info": {
   "codemirror_mode": {
    "name": "ipython",
    "version": 3
   },
   "file_extension": ".py",
   "mimetype": "text/x-python",
   "name": "python",
   "nbconvert_exporter": "python",
   "pygments_lexer": "ipython3",
   "version": "3.6.4"
  }
 },
 "nbformat": 4,
 "nbformat_minor": 2
}
